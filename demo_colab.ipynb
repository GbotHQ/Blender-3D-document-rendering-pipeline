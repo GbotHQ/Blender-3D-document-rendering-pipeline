{
  "cells": [
    {
      "cell_type": "code",
      "execution_count": null,
      "metadata": {
        "colab": {
          "base_uri": "https://localhost:8080/"
        },
        "id": "5zCbf7NA2DAq",
        "outputId": "411485b3-ee87-4e56-e584-55eb4004edcc"
      },
      "outputs": [],
      "source": [
        "import os\n",
        "\n",
        "# dependency for blender CUDA rendering\n",
        "!apt update\n",
        "!apt remove libtcmalloc-minimal4\n",
        "!apt install libtcmalloc-minimal4\n",
        "os.environ[\"LD_PRELOAD\"] = \"/usr/lib/x86_64-linux-gnu/libtcmalloc_minimal.so.4.3.0\""
      ]
    },
    {
      "cell_type": "code",
      "execution_count": null,
      "metadata": {
        "colab": {
          "base_uri": "https://localhost:8080/"
        },
        "id": "2nNNVESZ2-yy",
        "outputId": "4c564b84-8a47-4fc5-858c-3c2070b81535"
      },
      "outputs": [],
      "source": [
        "!git clone https://github.com/GbotHQ/Blender-3D-document-rendering-pipeline.git\n",
        "%cd \"Blender-3D-document-rendering-pipeline\""
      ]
    },
    {
      "cell_type": "code",
      "execution_count": null,
      "metadata": {},
      "outputs": [],
      "source": [
        "!./download_blender_binary.sh"
      ]
    },
    {
      "cell_type": "code",
      "execution_count": null,
      "metadata": {
        "id": "RW6A_L3R1hR-"
      },
      "outputs": [],
      "source": [
        "from pathlib import Path as pth\n",
        "\n",
        "blender_path = pth(\"/content/blender-3.4.0-linux-x64/blender\")\n",
        "blend_file_path = pth(\"blender\", \"scene.blend\")\n",
        "script_path = pth(\"src\", \"main.py\")\n",
        "output_path = pth(\"renders\")\n",
        "\n",
        "blender_path = blender_path.resolve()\n",
        "blend_file_path = blend_file_path.resolve()\n",
        "script_path = script_path.resolve()\n",
        "output_path = output_path.resolve()\n",
        "\n",
        "render_engine = \"CYCLES\"\n",
        "device = \"CUDA\" # either CPU, CUDA or OPTIX"
      ]
    },
    {
      "cell_type": "code",
      "execution_count": null,
      "metadata": {
        "id": "8z9RgJOS1hSD"
      },
      "outputs": [],
      "source": [
        "from shutil import rmtree\n",
        "from src import config\n",
        "\n",
        "config.set_seed(42)\n",
        "n_samples_to_generate = 2\n",
        "\n",
        "config_dir_path = pth(\"config\")\n",
        "\n",
        "# clear previous configs\n",
        "if config_dir_path.is_dir():\n",
        "    rmtree(config_dir_path)\n",
        "config_dir_path.mkdir(parents=True)\n",
        "\n",
        "for i in range(n_samples_to_generate):\n",
        "    sample = config.Config(device)\n",
        "    sample.render.output_dir = str(output_path)\n",
        "    config_path = config_dir_path / f\"sample_{i:08d}.json\"\n",
        "    config.write_config(config_path, sample)"
      ]
    },
    {
      "cell_type": "code",
      "execution_count": null,
      "metadata": {
        "colab": {
          "base_uri": "https://localhost:8080/"
        },
        "id": "GvVQt_YH1hSE",
        "outputId": "528c6f4f-f007-42ea-8080-20560e2418f5"
      },
      "outputs": [],
      "source": [
        "# clear output directory\n",
        "if output_path.is_dir():\n",
        "    rmtree(output_path)\n",
        "    output_path.mkdir()\n",
        "\n",
        "!\"$blender_path\" \"$blend_file_path\" --background --factory-startup --threads 0 --engine \"$render_engine\" --enable-autoexec --python \"$script_path\" -- --cycles-device \"$device\""
      ]
    },
    {
      "cell_type": "code",
      "execution_count": null,
      "metadata": {
        "id": "aSSbdmESKGfb"
      },
      "outputs": [],
      "source": [
        "import numpy as np\n",
        "import cv2 as cv\n",
        "from google.colab.patches import cv2_imshow\n",
        "\n",
        "\n",
        "def to_uint(img, dtype=np.uint8):\n",
        "    return (np.clip(img, 0, 1) * np.iinfo(dtype).max).astype(dtype)\n",
        "\n",
        "\n",
        "def to_float(img, fdtype=np.float32):\n",
        "    return img.astype(fdtype) / np.iinfo(img.dtype).max\n",
        "\n",
        "\n",
        "def imshow(img, downscale_amount=1):\n",
        "    cv2_imshow(cv.resize(img, (img.shape[1] // downscale_amount, img.shape[0] // downscale_amount)))\n",
        "\n",
        "\n",
        "def imread_coords(path):\n",
        "    # unchanged to read as uint16\n",
        "    coords = to_float(cv.imread(path, cv.IMREAD_UNCHANGED))\n",
        "    alpha = coords[..., 0, None]\n",
        "    # flip y to match opencv coordinates\n",
        "    coords[..., 1] = 1 - coords[..., 1]\n",
        "    coords = np.where(alpha < 1, -1, coords[..., 1:])\n",
        "    coords = coords[..., ::-1]\n",
        "\n",
        "    return coords, alpha\n",
        "\n",
        "\n",
        "def bbox_to_corners(x0, y0, x1, y1):\n",
        "    return (x0, y0), (x1, y0), (x1, y1), (x0, y1)\n",
        "\n",
        "\n",
        "def remap_point(point, coords, src_img):\n",
        "    point = np.asarray(point) / src_img.shape[:2][::-1]\n",
        "\n",
        "    # distance from point\n",
        "    distance = np.amax(np.abs(point - coords), axis=-1)\n",
        "\n",
        "    # take the pixel with the lowest distance\n",
        "    return np.unravel_index(np.argmin(distance), distance.shape)\n",
        "\n",
        "\n",
        "def remap_bbox(x0, y0, x1, y1, coords, src_img):\n",
        "    return np.asarray([remap_point(p, coords, src_img) for p in bbox_to_corners(x0, y0, x1, y1)])\n",
        "\n",
        "\n",
        "def draw_rect(img, points):\n",
        "    img = cv.polylines(img, (points,), True, (255, 0, 255), 2)\n",
        "    for i in range(points.shape[0]):\n",
        "        img = cv.circle(img, points[i], 6, (255, 0, 255), -1)\n",
        "    return img\n",
        "\n",
        "\n",
        "img = cv.imread(output_path / \"sample_00000000/image0001.png\")\n",
        "document_img = cv.imread(\"test_assets/lorem ipsum.png\")\n",
        "coords, alpha = imread_coords(output_path / \"sample_00000000/coordinates0001.png\")\n",
        "\n",
        "bbox = ((180, 256), (370, 512))\n",
        "\n",
        "# visualize\n",
        "pts = np.array(bbox_to_corners(*bbox[0], *bbox[1]), np.int32)\n",
        "pts_remapped = remap_bbox(*bbox[0], *bbox[1], coords, document_img)\n",
        "pts_remapped = pts_remapped[:, ::-1] # convert from numpy coordinates to opencv\n",
        "\n",
        "document_img = draw_rect(document_img, pts)\n",
        "img = draw_rect(img, pts_remapped)\n",
        "\n",
        "imshow(document_img, 3)\n",
        "imshow(img, 3)"
      ]
    }
  ],
  "metadata": {
    "colab": {
      "provenance": []
    },
    "gpuClass": "standard",
    "kernelspec": {
      "display_name": "env_mfct",
      "language": "python",
      "name": "python3"
    },
    "language_info": {
      "codemirror_mode": {
        "name": "ipython",
        "version": 3
      },
      "file_extension": ".py",
      "mimetype": "text/x-python",
      "name": "python",
      "nbconvert_exporter": "python",
      "pygments_lexer": "ipython3",
      "version": "3.11.3"
    },
    "orig_nbformat": 4,
    "vscode": {
      "interpreter": {
        "hash": "b8a0b49fd0c4635c91c882b7e82e49057ce426a150a19cf02f92541aeeca7358"
      }
    }
  },
  "nbformat": 4,
  "nbformat_minor": 0
}
