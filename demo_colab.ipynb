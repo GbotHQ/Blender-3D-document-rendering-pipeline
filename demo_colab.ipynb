{
  "cells": [
    {
      "cell_type": "code",
      "execution_count": null,
      "metadata": {
        "colab": {
          "base_uri": "https://localhost:8080/"
        },
        "id": "BonaaypI1naC",
        "outputId": "6b31d55d-da57-4501-bd8c-5ef74f4a0de9"
      },
      "outputs": [],
      "source": [
        "from pathlib import PurePath as ppth\n",
        "\n",
        "!mkdir ./blender\n",
        "%cd blender\n",
        "\n",
        "Blender_version_download_link_for_linux = \"https://download.blender.org/release/Blender3.4/blender-3.4.0-linux-x64.tar.xz\"\n",
        "\n",
        "!wget -nc $Blender_version_download_link_for_linux\n",
        "\n",
        "def get_filename(path):\n",
        "  return str(ppth(path).name)\n",
        "\n",
        "filename = get_filename(Blender_version_download_link_for_linux)\n",
        "\n",
        "!tar -xvf $filename --strip-components 1\n",
        "\n",
        "%cd .."
      ]
    },
    {
      "cell_type": "code",
      "execution_count": null,
      "metadata": {
        "colab": {
          "base_uri": "https://localhost:8080/"
        },
        "id": "5zCbf7NA2DAq",
        "outputId": "5c7a2039-b7c8-4ad9-de00-6abf82c10f5f"
      },
      "outputs": [],
      "source": [
        "import os\n",
        "\n",
        "# dependency for CUDA rendering\n",
        "!apt update\n",
        "!apt remove libtcmalloc-minimal4\n",
        "!apt install libtcmalloc-minimal4\n",
        "os.environ[\"LD_PRELOAD\"] = \"/usr/lib/x86_64-linux-gnu/libtcmalloc_minimal.so.4.3.0\""
      ]
    },
    {
      "cell_type": "code",
      "execution_count": null,
      "metadata": {
        "colab": {
          "base_uri": "https://localhost:8080/"
        },
        "id": "2nNNVESZ2-yy",
        "outputId": "cfb7f569-0425-4a94-82c0-c77e8d081268"
      },
      "outputs": [],
      "source": [
        "!git clone https://github.com/GbotHQ/vqa-dataset-scene-generator-test.git\n",
        "%cd vqa-dataset-scene-generator-test"
      ]
    },
    {
      "cell_type": "code",
      "execution_count": null,
      "metadata": {
        "id": "RW6A_L3R1hR-"
      },
      "outputs": [],
      "source": [
        "from pathlib import Path as pth\n",
        "from pathlib import PurePath as ppth\n",
        "\n",
        "from random import random, uniform, randint\n",
        "\n",
        "from src import config\n",
        "\n",
        "\n",
        "project_path = pth.cwd()\n",
        "\n",
        "blender_path = \"/content/blender/blender\"\n",
        "blend_file_path = project_path / \"blender\" / \"scene.blend\"\n",
        "script_path = project_path / \"src\" / \"main.py\""
      ]
    },
    {
      "cell_type": "code",
      "execution_count": null,
      "metadata": {
        "id": "1Upc8NX81hSB"
      },
      "outputs": [],
      "source": [
        "def generator(index):\n",
        "    output_path = pth(project_path, \"renders\")\n",
        "    assets_path = ppth(project_path, \"test_assets\")\n",
        "    texture_path_base = ppth(assets_path, \"WoodenPlanks05_MR_2K\")\n",
        "\n",
        "    render_dir_base = \"dataset_render_\"\n",
        "\n",
        "    output_path /= f\"{render_dir_base}{str(index).zfill(8)}\"\n",
        "\n",
        "    general_conf = {}\n",
        "    general_conf[\"resolution\"] = (1024, 1024)\n",
        "    general_conf[\"render_engine\"] = \"cycles\"\n",
        "    general_conf[\"cycles_device\"] = \"gpu\"\n",
        "    general_conf[\"cycles_samples\"] = 8\n",
        "    general_conf[\"cycles_denoise\"] = True\n",
        "    general_conf[\"output_path\"] = str(output_path)\n",
        "\n",
        "    ground_conf = {}\n",
        "    ground_conf[\"offset\"] = uniform(-10, 10)\n",
        "    ground_conf[\"texture_rotation\"] = uniform(0, 360)\n",
        "    ground_conf[\"displacement_strength\"] = uniform(0.04, 0.2)\n",
        "    ground_conf[\"subdivisions\"] = 9\n",
        "\n",
        "    for name, type in zip(\n",
        "        (\n",
        "            \"WoodenPlanks05_2K_BaseColor.png\",\n",
        "            \"WoodenPlanks05_2K_Roughness.png\",\n",
        "            \"WoodenPlanks05_2K_Height.png\",\n",
        "        ),\n",
        "        (\"albedo\", \"roughness\", \"depth\"),\n",
        "    ):\n",
        "        ground_conf[f\"texture_path_{type}\"] = str(texture_path_base / name)\n",
        "\n",
        "    paper_conf = {}\n",
        "    paper_conf[\"text_image_path\"] = str(ppth(assets_path, \"lorem ipsum.psd\"))\n",
        "    paper_conf[\"size\"] = (21.0, 29.7)\n",
        "    paper_conf[\"subdivisions\"] = 8\n",
        "    paper_conf[\"crumpling_strength\"] = uniform(0, 1.5)\n",
        "    paper_conf[\"fold_messiness\"] = uniform(0.03, 0.4)\n",
        "    paper_conf[\"fold_smoothness\"] = uniform(0, 1)\n",
        "    paper_conf[\"texture_rotation\"] = uniform(0, 360)\n",
        "    paper_conf[\"offset\"] = uniform(-10, 10)\n",
        "\n",
        "    folds_conf = []\n",
        "    for _ in range(2):\n",
        "        fold = {}\n",
        "        fold[\"strength\"] = uniform(0.1, 0.8) if random() > 0.3 else 0.0\n",
        "        fold[\"angle\"] = uniform(-15, 15)\n",
        "        folds_conf.append(fold)\n",
        "\n",
        "    folds_conf[1][\"angle\"] += 90\n",
        "\n",
        "    camera_conf = {}\n",
        "    camera_conf[\"focal_length\"] = randint(24, 135)\n",
        "    camera_conf[\"relative_camera_distance\"] = 1.3\n",
        "    camera_conf[\"depth_of_field\"] = True\n",
        "    camera_conf[\"fstop\"] = uniform(0.8, 1.8)\n",
        "    camera_conf[\"orbit\"] = (uniform(0, 25), uniform(0, 360))\n",
        "    camera_conf[\"look_at_2d\"] = (0, 0)\n",
        "\n",
        "    hdri_conf = {}\n",
        "    hdri_conf[\"hdri_image_path\"] = str(assets_path / \"canary_wharf_2k.exr\")\n",
        "    hdri_conf[\"hdri_strength\"] = uniform(0.02, 0.12)\n",
        "    hdri_conf[\"hdri_image_rotation\"] = uniform(0, 360)\n",
        "\n",
        "    lights_conf = []\n",
        "    for _ in range(2):\n",
        "        light = {}\n",
        "        light[\"visible\"] = True\n",
        "\n",
        "        light[\"distance\"] = uniform(2, 4)\n",
        "        light[\"orbit\"] = uniform(0, 45), uniform(0, 360)\n",
        "        light[\"look_at_2d\"] = uniform(-0.4, 0.4), uniform(-0.4, 0.4)\n",
        "\n",
        "        light[\"power\"] = uniform(300, 800)\n",
        "        light[\"shadow_softness_radius\"] = uniform(0.1, 0.8)\n",
        "        light[\"light_cone_angle\"] = uniform(30, 90)\n",
        "\n",
        "        color = [uniform(0.7, 1) for _ in range(3)]\n",
        "        color_total = sum(color)\n",
        "        color = [c / color_total for c in color]\n",
        "        light[\"color\"] = color\n",
        "        lights_conf.append(light)\n",
        "\n",
        "    lights_conf[1][\"visible\"] = random() > 0.7\n",
        "    if lights_conf[1][\"visible\"]:\n",
        "        # both lights are visible, need to reduce light power\n",
        "        for light in lights_conf:\n",
        "            light[\"power\"] /= 2\n",
        "\n",
        "    conf = {\n",
        "        \"general\": general_conf,\n",
        "        \"ground\": ground_conf,\n",
        "        \"paper\": paper_conf,\n",
        "        \"folds\": folds_conf,\n",
        "        \"camera\": camera_conf,\n",
        "        \"hdri\": hdri_conf,\n",
        "        \"lights\": lights_conf,\n",
        "    }\n",
        "\n",
        "    return conf"
      ]
    },
    {
      "cell_type": "code",
      "execution_count": null,
      "metadata": {
        "id": "8z9RgJOS1hSD"
      },
      "outputs": [],
      "source": [
        "n_samples_to_generate = 2\n",
        "samples = [generator(i) for i in range(n_samples_to_generate)]\n",
        "config.write(samples)"
      ]
    },
    {
      "cell_type": "code",
      "execution_count": null,
      "metadata": {
        "colab": {
          "base_uri": "https://localhost:8080/"
        },
        "id": "GvVQt_YH1hSE",
        "outputId": "075a476e-8027-450b-8777-ff97957dcc12"
      },
      "outputs": [],
      "source": [
        "import shutil\n",
        "\n",
        "shutil.rmtree(\"renders\")\n",
        "%mkdir renders\n",
        "\n",
        "!\"$blender_path\" \"$blend_file_path\" --background --factory-startup --threads 0 --engine CYCLES --enable-autoexec --python \"$script_path\" -- --cycles-device CUDA"
      ]
    },
    {
      "cell_type": "code",
      "execution_count": null,
      "metadata": {
        "colab": {
          "base_uri": "https://localhost:8080/",
          "height": 699
        },
        "id": "aSSbdmESKGfb",
        "outputId": "1ad8eaca-9bfb-4790-95ca-a92c55f1a62d"
      },
      "outputs": [],
      "source": [
        "import numpy as np\n",
        "import cv2 as cv\n",
        "from google.colab.patches import cv2_imshow\n",
        "\n",
        "\n",
        "def to_uint(img, dtype=np.uint8):\n",
        "    return (np.clip(img, 0, 1) * np.iinfo(dtype).max).astype(dtype)\n",
        "\n",
        "\n",
        "def to_float(img, fdtype=np.float32):\n",
        "    return img.astype(fdtype) / np.iinfo(img.dtype).max\n",
        "\n",
        "\n",
        "def imshow(img, downscale_count=1):\n",
        "    cv2_imshow(cv.resize(img, np.array(img.shape[:2][::-1], np.int32) // downscale_count))\n",
        "\n",
        "\n",
        "def imread_coords(path):\n",
        "    # unchanged to read as uint16\n",
        "    coords = to_float(cv.imread(path, cv.IMREAD_UNCHANGED))\n",
        "    alpha = coords[..., 0, None]\n",
        "    # flip y to match opencv coordinates\n",
        "    coords[..., 1] = 1 - coords[..., 1]\n",
        "    coords = np.where(alpha < 1, -1, coords[..., 1:])\n",
        "    coords = coords[..., ::-1]\n",
        "\n",
        "    return coords, alpha\n",
        "\n",
        "\n",
        "def bbox_to_corners(x0, y0, x1, y1):\n",
        "    return (x0, y0), (x1, y0), (x1, y1), (x0, y1)\n",
        "\n",
        "\n",
        "def remap_point(point, coords, src_img):\n",
        "    point = np.asarray(point) / src_img.shape[:2][::-1]\n",
        "\n",
        "    # distance from point\n",
        "    distance = np.amax(np.abs(point - coords), axis=-1)\n",
        "\n",
        "    # take the pixel with the lowest distance\n",
        "    remapped_point = np.unravel_index(np.argmin(distance), distance.shape)\n",
        "\n",
        "    return remapped_point\n",
        "\n",
        "\n",
        "def remap_bbox(x0, y0, x1, y1, coords, src_img):\n",
        "    return np.asarray([remap_point(p, coords, src_img) for p in bbox_to_corners(x0, y0, x1, y1)])\n",
        "\n",
        "\n",
        "def draw_rect(img, points):\n",
        "    img = cv.polylines(img, (points,), True, (255, 0, 255), 2)\n",
        "    for i in range(points.shape[0]):\n",
        "        img = cv.circle(img, points[i], 6, (255, 0, 255), -1)\n",
        "    return img\n",
        "\n",
        "\n",
        "# renders/dataset_render_00000000/\n",
        "img = cv.imread(\"renders/dataset_render_00000000/image0001.png\")\n",
        "document_img = cv.imread(\"test_assets/lorem ipsum.png\")\n",
        "coords, alpha = imread_coords(\"renders/dataset_render_00000000/coordinates0001.png\")\n",
        "\n",
        "bbox = ((180, 256), (370, 512))\n",
        "\n",
        "# visualize\n",
        "pts = np.array(bbox_to_corners(*bbox[0], *bbox[1]), np.int32)\n",
        "pts_remapped = remap_bbox(*bbox[0], *bbox[1], coords, document_img)\n",
        "pts_remapped = pts_remapped[:, ::-1] # convert from numpy coordinates to opencv\n",
        "\n",
        "document_img = draw_rect(document_img, pts)\n",
        "img = draw_rect(img, pts_remapped)\n",
        "\n",
        "imshow(document_img, 3)\n",
        "imshow(img, 3)"
      ]
    }
  ],
  "metadata": {
    "colab": {
      "provenance": []
    },
    "gpuClass": "standard",
    "kernelspec": {
      "display_name": "env_mfct",
      "language": "python",
      "name": "python3"
    },
    "language_info": {
      "codemirror_mode": {
        "name": "ipython",
        "version": 3
      },
      "file_extension": ".py",
      "mimetype": "text/x-python",
      "name": "python",
      "nbconvert_exporter": "python",
      "pygments_lexer": "ipython3",
      "version": "3.9.13 (main, Aug 25 2022, 23:51:50) [MSC v.1916 64 bit (AMD64)]"
    },
    "orig_nbformat": 4,
    "vscode": {
      "interpreter": {
        "hash": "b8a0b49fd0c4635c91c882b7e82e49057ce426a150a19cf02f92541aeeca7358"
      }
    }
  },
  "nbformat": 4,
  "nbformat_minor": 0
}
