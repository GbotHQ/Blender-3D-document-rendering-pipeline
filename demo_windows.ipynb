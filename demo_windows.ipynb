{
 "cells": [
  {
   "cell_type": "code",
   "execution_count": null,
   "metadata": {},
   "outputs": [],
   "source": [
    "from pathlib import Path as pth\n",
    "\n",
    "blender_path = pth(\"C:/Program Files/Blender Foundation/Blender 3.4/blender.exe\")\n",
    "blend_file_path = pth(\"blender\", \"scene.blend\")\n",
    "script_path = pth(\"src\", \"main.py\")\n",
    "output_path = pth(\"renders\")\n",
    "\n",
    "blender_path = blender_path.resolve()\n",
    "blend_file_path = blend_file_path.resolve()\n",
    "script_path = script_path.resolve()\n",
    "output_path = output_path.resolve()\n",
    "\n",
    "render_engine = \"CYCLES\"\n",
    "device = \"OPTIX\" # either CPU, CUDA or OPTIX"
   ]
  },
  {
   "cell_type": "code",
   "execution_count": null,
   "metadata": {},
   "outputs": [],
   "source": [
    "from shutil import rmtree\n",
    "from src import config\n",
    "\n",
    "config.set_seed(42)\n",
    "n_samples_to_generate = 2\n",
    "\n",
    "config_dir_path = pth(\"config\")\n",
    "\n",
    "# clear previous configs\n",
    "if config_dir_path.is_dir():\n",
    "    rmtree(config_dir_path)\n",
    "config_dir_path.mkdir(parents=True)\n",
    "\n",
    "for i in range(n_samples_to_generate):\n",
    "    sample = config.Config(device)\n",
    "    sample.render.output_dir = str(output_path)\n",
    "    config_path = config_dir_path / f\"sample_{i:08d}.json\"\n",
    "    config.write_config(config_path, sample)"
   ]
  },
  {
   "cell_type": "code",
   "execution_count": null,
   "metadata": {},
   "outputs": [],
   "source": [
    "# clear output directory\n",
    "if output_path.is_dir():\n",
    "    rmtree(output_path)\n",
    "    output_path.mkdir()\n",
    "\n",
    "!\"$blender_path\" \"$blend_file_path\" --background --factory-startup --threads 0 --engine \"$render_engine\" --enable-autoexec --python \"$script_path\" -- --cycles-device \"$device\""
   ]
  }
 ],
 "metadata": {
  "kernelspec": {
   "display_name": "env_mfct",
   "language": "python",
   "name": "python3"
  },
  "language_info": {
   "codemirror_mode": {
    "name": "ipython",
    "version": 3
   },
   "file_extension": ".py",
   "mimetype": "text/x-python",
   "name": "python",
   "nbconvert_exporter": "python",
   "pygments_lexer": "ipython3",
   "version": "3.11.3"
  },
  "orig_nbformat": 4,
  "vscode": {
   "interpreter": {
    "hash": "b8a0b49fd0c4635c91c882b7e82e49057ce426a150a19cf02f92541aeeca7358"
   }
  }
 },
 "nbformat": 4,
 "nbformat_minor": 2
}
